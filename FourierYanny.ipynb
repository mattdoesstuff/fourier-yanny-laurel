{
  "nbformat": 4,
  "nbformat_minor": 0,
  "metadata": {
    "colab": {
      "name": "FourierYanny.ipynb",
      "provenance": [],
      "collapsed_sections": [],
      "include_colab_link": true
    },
    "kernelspec": {
      "name": "python3",
      "display_name": "Python 3"
    }
  },
  "cells": [
    {
      "cell_type": "markdown",
      "metadata": {
        "id": "view-in-github",
        "colab_type": "text"
      },
      "source": [
        "<a href=\"https://colab.research.google.com/github/mattdoesstuff/fourier-yanny-laurel/blob/master/FourierYanny.ipynb\" target=\"_parent\"><img src=\"https://colab.research.google.com/assets/colab-badge.svg\" alt=\"Open In Colab\"/></a>"
      ]
    },
    {
      "cell_type": "code",
      "metadata": {
        "id": "vKVHG8G8tAzm",
        "colab_type": "code",
        "outputId": "9d4f94b5-a635-46f2-cfc6-7afcebd30dea",
        "colab": {
          "base_uri": "https://localhost:8080/",
          "height": 212
        }
      },
      "source": [
        "# Started 2:06AM 2/22/2020\n",
        "import scipy.io.wavfile as wavfile\n",
        "import numpy as np\n",
        "from google.colab import files\n",
        "from matplotlib import pyplot as plt\n",
        "with open(\"laurel_yanny.wav\", \"rb\") as f:\n",
        "  sampleRate, data = wavfile.read(f)"
      ],
      "execution_count": 0,
      "outputs": [
        {
          "output_type": "error",
          "ename": "FileNotFoundError",
          "evalue": "ignored",
          "traceback": [
            "\u001b[0;31m---------------------------------------------------------------------------\u001b[0m",
            "\u001b[0;31mFileNotFoundError\u001b[0m                         Traceback (most recent call last)",
            "\u001b[0;32m<ipython-input-2-fc16b6b8d172>\u001b[0m in \u001b[0;36m<module>\u001b[0;34m()\u001b[0m\n\u001b[1;32m      3\u001b[0m \u001b[0;32mfrom\u001b[0m \u001b[0mgoogle\u001b[0m\u001b[0;34m.\u001b[0m\u001b[0mcolab\u001b[0m \u001b[0;32mimport\u001b[0m \u001b[0mfiles\u001b[0m\u001b[0;34m\u001b[0m\u001b[0;34m\u001b[0m\u001b[0m\n\u001b[1;32m      4\u001b[0m \u001b[0;32mfrom\u001b[0m \u001b[0mmatplotlib\u001b[0m \u001b[0;32mimport\u001b[0m \u001b[0mpyplot\u001b[0m \u001b[0;32mas\u001b[0m \u001b[0mplt\u001b[0m\u001b[0;34m\u001b[0m\u001b[0;34m\u001b[0m\u001b[0m\n\u001b[0;32m----> 5\u001b[0;31m \u001b[0;32mwith\u001b[0m \u001b[0mopen\u001b[0m\u001b[0;34m(\u001b[0m\u001b[0;34m\"laurel_yanny.wav\"\u001b[0m\u001b[0;34m,\u001b[0m \u001b[0;34m\"rb\"\u001b[0m\u001b[0;34m)\u001b[0m \u001b[0;32mas\u001b[0m \u001b[0mf\u001b[0m\u001b[0;34m:\u001b[0m\u001b[0;34m\u001b[0m\u001b[0;34m\u001b[0m\u001b[0m\n\u001b[0m\u001b[1;32m      6\u001b[0m   \u001b[0msampleRate\u001b[0m\u001b[0;34m,\u001b[0m \u001b[0mdata\u001b[0m \u001b[0;34m=\u001b[0m \u001b[0mwavfile\u001b[0m\u001b[0;34m.\u001b[0m\u001b[0mread\u001b[0m\u001b[0;34m(\u001b[0m\u001b[0mf\u001b[0m\u001b[0;34m)\u001b[0m\u001b[0;34m\u001b[0m\u001b[0;34m\u001b[0m\u001b[0m\n",
            "\u001b[0;31mFileNotFoundError\u001b[0m: [Errno 2] No such file or directory: 'laurel_yanny.wav'"
          ]
        }
      ]
    },
    {
      "cell_type": "code",
      "metadata": {
        "id": "7Vsq6Wx2T8x7",
        "colab_type": "code",
        "colab": {}
      },
      "source": [
        "def plotWaveform(audio):\n",
        "  plt.plot(audio)\n",
        "  plt.title(\"Waveform\")"
      ],
      "execution_count": 0,
      "outputs": []
    },
    {
      "cell_type": "code",
      "metadata": {
        "id": "OoCIS69TxFHY",
        "colab_type": "code",
        "colab": {}
      },
      "source": [
        "def plotFourier(audio):\n",
        "  fourier = np.fft.fft(audio)\n",
        "  plt.plot(fourier)\n",
        "  plt.title(\"Fourier Transform\")\n",
        "  plt.ylabel(\"Displacement\")\n",
        "  plt.xlabel(\"Time\")\n",
        "  plt.savefig(\"waveform\")"
      ],
      "execution_count": 0,
      "outputs": []
    },
    {
      "cell_type": "code",
      "metadata": {
        "id": "qw5FBN10Dvoa",
        "colab_type": "code",
        "colab": {}
      },
      "source": [
        "def plotSpectogram():\n",
        "  coeffs = np.zeros((math.ceil(len(data) / 500) - 1, 80))\n",
        "  for i in range(math.ceil(len(data) / 500) - 1):\n",
        "    f = np.fft.fft(data[(i * 500): (i+1) * 500])\n",
        "    f = np.abs(f)\n",
        "    coeffs[i, ] = f[:80]\n",
        "  coeffs = np.sqrt(coeffs)\n",
        "  plt.imshow(coeffs, cmap='hot')\n"
      ],
      "execution_count": 0,
      "outputs": []
    },
    {
      "cell_type": "code",
      "metadata": {
        "id": "coPmQ1I1HlT3",
        "colab_type": "code",
        "colab": {}
      },
      "source": [
        "def threshold(t, reverse = False):\n",
        "  transformed = np.fft.fft(data)\n",
        "  if reverse:\n",
        "    transformed[t:] = np.zeros((len(transformed) - t))\n",
        "  else:\n",
        "    transformed[:t] = np.zeros((t))\n",
        "  reverse = np.fft.ifft(transformed)\n",
        "  return reverse"
      ],
      "execution_count": 0,
      "outputs": []
    },
    {
      "cell_type": "code",
      "metadata": {
        "id": "VtqHBkvUO5QA",
        "colab_type": "code",
        "colab": {}
      },
      "source": [
        "def alternateLaurel():\n",
        "  transformed = np.fft.fft(data)\n",
        "  print(transformed.shape)\n",
        "  transformed = transformed[3500:]\n",
        "  print(transformed.shape)\n",
        "  # transformed = np.multiply(3, transformed)\n",
        "  inverse = np.fft.ifft(transformed)\n",
        "  return inverse"
      ],
      "execution_count": 0,
      "outputs": []
    },
    {
      "cell_type": "code",
      "metadata": {
        "id": "gwYOeJhYJIPs",
        "colab_type": "code",
        "colab": {}
      },
      "source": [
        "def getYanny():\n",
        "  inverse = threshold(1000, False)\n",
        "  with open(\"sound.wav\", \"wb\") as f:\n",
        "    wavfile.write(f, sampleRate, (inverse * 1.0/np.max(np.abs(inverse))*32767).astype(np.int16))\n",
        "  files.download('sound.wav') \n",
        "def getLaurel():\n",
        "  inverse = threshold(1000, True)\n",
        "  with open(\"sound.wav\", \"wb\") as f:\n",
        "    wavfile.write(f, sampleRate, (inverse * 1.0/np.max(np.abs(inverse))*32767).astype(np.int16))\n",
        "  files.download('sound.wav') \n",
        "def getAlternateLaurel():\n",
        "  inverse = alternateYanny()\n",
        "  with open(\"sound.wav\", \"wb\") as f:\n",
        "    wavfile.write(f, sampleRate, (data * 1.0/np.max(np.abs(data))*32767).astype(np.int16))\n",
        "  files.download('sound.wav') \n",
        "def getResampled(speed):\n",
        "  with open(\"sound.wav\", \"wb\") as f:\n",
        "    wavfile.write(f, int(sampleRate * speed), (data * 1.0/np.max(np.abs(data))*32767).astype(np.int16))\n",
        "  files.download('sound.wav') "
      ],
      "execution_count": 0,
      "outputs": []
    },
    {
      "cell_type": "code",
      "metadata": {
        "id": "OcUKYu5LQ2YW",
        "colab_type": "code",
        "outputId": "3c37a975-587f-492a-9230-df5d7bc60257",
        "colab": {
          "base_uri": "https://localhost:8080/",
          "height": 72
        }
      },
      "source": [
        "getLaurel()"
      ],
      "execution_count": 0,
      "outputs": [
        {
          "output_type": "stream",
          "text": [
            "/usr/local/lib/python3.6/dist-packages/ipykernel_launcher.py:9: ComplexWarning: Casting complex values to real discards the imaginary part\n",
            "  if __name__ == '__main__':\n"
          ],
          "name": "stderr"
        }
      ]
    },
    {
      "cell_type": "code",
      "metadata": {
        "id": "gK-lOReY6Bhq",
        "colab_type": "code",
        "colab": {}
      },
      "source": [
        ""
      ],
      "execution_count": 0,
      "outputs": []
    }
  ]
}